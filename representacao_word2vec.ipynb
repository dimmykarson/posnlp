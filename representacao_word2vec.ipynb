{
 "cells": [
  {
   "cell_type": "code",
   "execution_count": 3,
   "id": "0ba00364",
   "metadata": {},
   "outputs": [],
   "source": [
    "import pandas as pd\n",
    "\n",
    "df = pd.read_csv(\"datasets/imdb.csv\")\n",
    "\n",
    "#realizar preprocessamento necessários!!!\n",
    "#atividade do trabalho da disciplina\n",
    "\n",
    "\n",
    "!pip install gensim\n",
    "from gensim.models import Word2Vec"
   ]
  },
  {
   "cell_type": "code",
   "execution_count": null,
   "id": "4ab12618",
   "metadata": {},
   "outputs": [],
   "source": [
    "model = Word2Vec(df['review'], \n",
    "                 min_count=5, \n",
    "                 vector_size=300, \n",
    "                 window=10)\n",
    "model.train(df['review'], \n",
    "            total_examples=(len(df['review'])), \n",
    "            epochs=10)"
   ]
  }
 ],
 "metadata": {
  "kernelspec": {
   "display_name": "Python 3 (ipykernel)",
   "language": "python",
   "name": "python3"
  },
  "language_info": {
   "codemirror_mode": {
    "name": "ipython",
    "version": 3
   },
   "file_extension": ".py",
   "mimetype": "text/x-python",
   "name": "python",
   "nbconvert_exporter": "python",
   "pygments_lexer": "ipython3",
   "version": "3.10.2"
  }
 },
 "nbformat": 4,
 "nbformat_minor": 5
}
