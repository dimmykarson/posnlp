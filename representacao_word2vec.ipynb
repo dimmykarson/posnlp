{
 "cells": [
  {
   "cell_type": "code",
   "execution_count": 2,
   "id": "0ba00364",
   "metadata": {},
   "outputs": [
    {
     "name": "stdout",
     "output_type": "stream",
     "text": [
      "Requirement already satisfied: gensim in c:\\users\\dimmy\\miniconda3\\lib\\site-packages (4.1.2)\n",
      "Requirement already satisfied: smart-open>=1.8.1 in c:\\users\\dimmy\\miniconda3\\lib\\site-packages (from gensim) (5.2.1)\n",
      "Requirement already satisfied: Cython==0.29.23 in c:\\users\\dimmy\\miniconda3\\lib\\site-packages (from gensim) (0.29.23)\n",
      "Requirement already satisfied: numpy>=1.17.0 in c:\\users\\dimmy\\miniconda3\\lib\\site-packages (from gensim) (1.22.3)\n",
      "Requirement already satisfied: scipy>=0.18.1 in c:\\users\\dimmy\\miniconda3\\lib\\site-packages (from gensim) (1.8.0)\n"
     ]
    }
   ],
   "source": [
    "import pandas as pd\n",
    "\n",
    "df = pd.read_csv(\"datasets/imdb.csv\")\n",
    "df = df[:350]\n",
    "\n",
    "#realizar preprocessamento necessários!!!\n",
    "#atividade do trabalho da disciplina\n",
    "\n",
    "\n",
    "!pip install gensim\n",
    "from gensim.models import Word2Vec"
   ]
  },
  {
   "cell_type": "code",
   "execution_count": 3,
   "id": "4ab12618",
   "metadata": {},
   "outputs": [
    {
     "data": {
      "text/plain": [
       "(992331, 4587840)"
      ]
     },
     "execution_count": 3,
     "metadata": {},
     "output_type": "execute_result"
    }
   ],
   "source": [
    "model = Word2Vec(df['review'], \n",
    "                 min_count=5, \n",
    "                 vector_size=300, \n",
    "                 window=10)\n",
    "model.train(df['review'],\n",
    "            total_examples=(len(df['review'])), \n",
    "            epochs=10)"
   ]
  },
  {
   "cell_type": "code",
   "execution_count": 9,
   "id": "a846e2db",
   "metadata": {},
   "outputs": [
    {
     "name": "stdout",
     "output_type": "stream",
     "text": [
      "350 vetores\n",
      "One of the other reviewers has mentioned that after watching just 1 Oz episode you'll be hooked. They are right, as this is exactly what happened with me.<br /><br />The first thing that struck me about Oz was its brutality and unflinching scenes of violence, which set in right from the word GO. Trust me, this is not a show for the faint hearted or timid. This show pulls no punches with regards to drugs, sex or violence. Its is hardcore, in the classic use of the word.<br /><br />It is called OZ as that is the nickname given to the Oswald Maximum Security State Penitentary. It focuses mainly on Emerald City, an experimental section of the prison where all the cells have glass fronts and face inwards, so privacy is not high on the agenda. Em City is home to many..Aryans, Muslims, gangstas, Latinos, Christians, Italians, Irish and more....so scuffles, death stares, dodgy dealings and shady agreements are never far away.<br /><br />I would say the main appeal of the show is due to the fact that it goes where other shows wouldn't dare. Forget pretty pictures painted for mainstream audiences, forget charm, forget romance...OZ doesn't mess around. The first episode I ever saw struck me as so nasty it was surreal, I couldn't say I was ready for it, but as I watched more, I developed a taste for Oz, and got accustomed to the high levels of graphic violence. Not just violence, but injustice (crooked guards who'll be sold out for a nickel, inmates who'll kill on order and get away with it, well mannered, middle class inmates being turned into prison bitches due to their lack of street skills or prison experience) Watching Oz, you may become comfortable with what is uncomfortable viewing....thats if you can get in touch with your darker side. equivale a: \n",
      "[ 7.23031685e-02 -1.92656799e-03  7.06621632e-02  8.67886394e-02\n",
      "  1.18054403e-02 -2.32328996e-02 -1.28421262e-01 -6.04252107e-02\n",
      "  3.70994098e-02 -1.10934591e-02  6.84435517e-02 -2.97847185e-02\n",
      "  8.58142525e-02  7.14854822e-02 -1.07712239e-01  1.28420312e-02\n",
      "  1.60707310e-02  6.55802637e-02  8.10451433e-03  6.01375140e-02\n",
      " -3.19146141e-02  3.59266698e-02  4.48611565e-02  3.26512419e-02\n",
      " -7.87806585e-02 -4.95175831e-02 -4.67300741e-03  1.48826063e-01\n",
      "  5.89708015e-02 -3.89859155e-02  1.54243351e-03 -8.04437548e-02\n",
      "  2.70006135e-02  1.65544159e-03 -6.24942295e-02 -1.45145389e-03\n",
      " -6.71110116e-03  3.91739681e-02 -1.11370958e-01  7.66846817e-03\n",
      "  6.60320446e-02  1.53260767e-01 -5.64087480e-02 -6.59006834e-02\n",
      "  2.56118411e-03 -7.73076117e-02  6.73747901e-03 -1.01006314e-01\n",
      " -1.24064907e-01 -9.64884907e-02  5.69410995e-02 -5.00514098e-02\n",
      " -1.56917438e-01 -2.97713242e-02  6.42820969e-02 -1.61940217e-01\n",
      " -2.89391857e-02 -1.20936580e-01  5.36465719e-02  2.52862219e-02\n",
      " -2.32985076e-02 -4.26815599e-02  1.01111986e-01  3.57857943e-02\n",
      "  2.52026203e-03 -2.29043588e-02 -1.56147759e-02 -6.45766631e-02\n",
      " -1.25375852e-01  2.25903988e-02  3.29716392e-02  2.27638986e-02\n",
      "  4.11467180e-02 -3.18532735e-02  7.34687448e-02  6.10760832e-03\n",
      "  3.43323201e-02 -3.93991210e-02  2.78233197e-02 -1.00749150e-01\n",
      " -8.17431808e-02 -3.94109823e-02 -4.39777784e-02 -4.15635109e-02\n",
      " -6.04329221e-02 -5.52938953e-02 -1.20039219e-02 -1.03409914e-02\n",
      " -4.59223837e-02  4.42702398e-02 -8.82125795e-02  2.37894673e-02\n",
      "  3.85441966e-02 -8.83292928e-02  9.47772861e-02 -4.88176569e-02\n",
      "  6.28013611e-02 -7.26598606e-04  1.61024332e-02 -2.13136431e-02\n",
      "  7.55547658e-02  5.60655221e-02 -7.00638220e-02  7.81857148e-02\n",
      " -5.44984639e-02  1.72228292e-02 -3.39908637e-02 -6.43644631e-02\n",
      "  5.43814152e-02 -3.38934711e-03 -8.89650583e-02 -6.87272251e-02\n",
      " -6.13640621e-02 -3.85161676e-02  3.93231399e-02  8.26192126e-02\n",
      " -2.49971952e-02 -8.26581661e-03 -1.97269674e-02 -8.28732848e-02\n",
      "  2.75231879e-02  6.97194710e-02  1.96450129e-01  1.86007470e-02\n",
      "  7.68819777e-03  1.36958063e-01 -1.33946091e-01  2.22527497e-02\n",
      " -9.92186517e-02  1.11324199e-01  1.11075848e-01  7.22913221e-02\n",
      "  6.89723343e-02 -9.28288847e-02 -2.61531286e-02  3.73319760e-02\n",
      " -2.11100243e-02 -4.62254845e-02 -6.74072281e-02  3.04445904e-02\n",
      "  6.69363439e-02 -2.00455673e-02 -4.92367148e-02  3.81349809e-02\n",
      " -2.14982225e-04 -1.15032710e-01 -6.29141703e-02 -3.30635682e-02\n",
      "  1.39230892e-01 -2.01353040e-02 -2.85278130e-02 -4.20462340e-02\n",
      "  6.22939877e-02 -4.33336571e-02  6.66698366e-02  4.88308296e-02\n",
      "  3.10134199e-02  1.42913368e-02 -2.05710195e-02 -7.79898688e-02\n",
      " -7.50614854e-04 -4.26640511e-02  2.34202184e-02  1.14117309e-01\n",
      "  1.09421641e-01  4.38517295e-02  5.07508451e-03 -2.52615456e-02\n",
      "  6.61482736e-02 -9.80040655e-02  7.83612877e-02 -3.96555960e-02\n",
      " -5.61358258e-02  6.82732388e-02 -1.06030509e-01  6.85385242e-02\n",
      " -3.52115147e-02  2.93871644e-03  9.47903469e-02 -8.90466422e-02\n",
      " -7.20167458e-02 -1.46542668e-01  5.24695553e-02  1.11681469e-01\n",
      " -1.91868082e-01 -2.09914166e-02  9.91991982e-02 -3.28729600e-02\n",
      " -1.21464590e-02 -9.30992067e-02  1.87516034e-01 -4.43183556e-02\n",
      " -5.04343882e-02 -8.71599019e-02 -8.33751485e-02 -8.13608617e-02\n",
      " -6.65292814e-02 -7.00367242e-02 -8.24070349e-02  2.74013914e-02\n",
      "  1.08185187e-01  7.98135251e-02  4.16419096e-02 -1.45704290e-02\n",
      "  1.23821601e-01  3.38658690e-02  3.62794623e-02  1.01472266e-01\n",
      " -1.00797363e-01 -1.18440047e-01  4.67299409e-02  1.77188143e-02\n",
      "  4.14593853e-02 -6.80230260e-02  1.28604233e-01 -7.02806041e-02\n",
      "  1.78220663e-02 -1.63738374e-02  1.20018020e-01 -7.97426328e-02\n",
      " -3.08977701e-02 -1.34211719e-01  6.56652749e-02 -2.59916927e-03\n",
      " -7.30241612e-02 -4.42071110e-02 -8.45337138e-02 -4.57070619e-02\n",
      "  1.96032822e-01  1.33779943e-02 -4.87467870e-02  6.15353137e-02\n",
      "  8.86014372e-04 -8.38713050e-02  1.85080826e-01 -6.45053387e-02\n",
      "  2.34514121e-02  1.27841592e-01 -9.68954712e-02  1.69812232e-01\n",
      "  1.21738680e-01 -5.11689335e-02  3.20237875e-02  3.17767598e-02\n",
      " -2.31654686e-03  1.28004313e-01 -2.27947030e-02 -1.29906898e-02\n",
      " -3.44173908e-02  1.06681332e-01  7.16875121e-02  4.82609272e-02\n",
      "  1.98611449e-02 -6.57271739e-05  4.77092415e-02 -1.34704113e-02\n",
      "  1.11085005e-01 -3.54486592e-02  5.72861992e-02 -4.35042791e-02\n",
      " -8.42903554e-03 -1.45606160e-01  4.33350652e-02 -2.29626824e-03\n",
      "  1.06274076e-01  8.29827413e-03  7.32909143e-03 -8.10577497e-02\n",
      " -1.00675799e-01  6.66748285e-02 -3.14313825e-03  2.28515826e-03\n",
      "  9.10460353e-02  6.69313669e-02 -1.01667773e-02 -9.04263705e-02\n",
      "  3.44040953e-02 -4.23148982e-02  9.98226404e-02  7.61443451e-02\n",
      " -2.34042257e-02 -6.34821802e-02 -5.55346087e-02 -7.36803636e-02\n",
      "  7.58626238e-02 -3.21851927e-04  2.53679659e-02  1.61834937e-02\n",
      "  3.27278599e-02  1.27321050e-01  1.91715702e-01  1.38407260e-01\n",
      "  7.62923285e-02  1.12473741e-01  3.96095395e-01  3.46143097e-01\n",
      " -6.38178661e-02 -1.04431413e-01  1.14809059e-01 -3.47758561e-01]\n"
     ]
    }
   ],
   "source": [
    "import numpy as np\n",
    "X_vetores = []\n",
    "for text in df['review']:\n",
    "    sent_vector = np.mean([model.wv[word] \n",
    "                           for word in text if word in model.wv],\n",
    "                          axis=0)\n",
    "    X_vetores.append(sent_vector)\n",
    "print(len(X_vetores), \"vetores\")\n",
    "print(f\"{df['review'].iloc[0]} equivale ao vetor: \") \n",
    "print(X_vetores[0])"
   ]
  },
  {
   "cell_type": "code",
   "execution_count": 10,
   "id": "2c4d386f",
   "metadata": {},
   "outputs": [],
   "source": [
    "import pickle as pck\n",
    "pck.dump(X_vetores, open(\"datasets/representacao_w2v_350.bin\", \n",
    "                         \"wb\"))"
   ]
  }
 ],
 "metadata": {
  "kernelspec": {
   "display_name": "Python 3 (ipykernel)",
   "language": "python",
   "name": "python3"
  },
  "language_info": {
   "codemirror_mode": {
    "name": "ipython",
    "version": 3
   },
   "file_extension": ".py",
   "mimetype": "text/x-python",
   "name": "python",
   "nbconvert_exporter": "python",
   "pygments_lexer": "ipython3",
   "version": "3.10.2"
  }
 },
 "nbformat": 4,
 "nbformat_minor": 5
}
