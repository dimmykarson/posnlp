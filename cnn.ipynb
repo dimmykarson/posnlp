{
 "cells": [
  {
   "cell_type": "code",
   "execution_count": 8,
   "id": "ad8cca1c",
   "metadata": {},
   "outputs": [],
   "source": [
    "#rede neural baseada em convolução\n",
    "from tensorflow import keras\n",
    "from keras.models import Sequential\n",
    "from keras.layers import Dense, Flatten\n",
    "from keras.layers.convolutional import Conv1D, MaxPooling1D\n",
    "from keras.layers.embeddings import Embedding\n",
    "from keras.preprocessing import sequence\n",
    "import pickle as pck\n",
    "import pandas as pd"
   ]
  },
  {
   "cell_type": "code",
   "execution_count": 6,
   "id": "6a35ea4a",
   "metadata": {},
   "outputs": [],
   "source": [
    "#Carregando a representação\n",
    "x = pck.load(open(\"datasets/representacao_tfidf_350.bin\", \"rb\"))\n",
    "x = x.toarray()\n",
    "#Carregando o dataset\n",
    "df = pd.read_csv(\"datasets/imdb.csv\")\n",
    "df = df[:350]"
   ]
  },
  {
   "cell_type": "code",
   "execution_count": 9,
   "id": "42118739",
   "metadata": {},
   "outputs": [],
   "source": [
    "\n",
    "#representação binária dos rótulos\n",
    "num_classes = 2\n",
    "from sklearn.preprocessing import LabelEncoder\n",
    "import numpy as np\n",
    "\n",
    "y = np.array(df['sentiment'])\n",
    "\n",
    "label_encoder = LabelEncoder()\n",
    "y = label_encoder.fit_transform(y)\n",
    "y = keras.utils.to_categorical(y, num_classes)\n"
   ]
  },
  {
   "cell_type": "code",
   "execution_count": 14,
   "id": "f5c533e9",
   "metadata": {},
   "outputs": [],
   "source": [
    "#padding sentenças (caso elas tenham tamanhos diferentes)\n",
    "input_length = x.shape[1]\n",
    "X = sequence.pad_sequences(x, maxlen=input_length)"
   ]
  },
  {
   "cell_type": "code",
   "execution_count": 18,
   "id": "d4f76c22",
   "metadata": {},
   "outputs": [],
   "source": [
    "from sklearn.model_selection import train_test_split\n",
    "x_train, x_val, y_train, y_val = train_test_split(X, y, test_size = .1)\n",
    "num_classes = 2\n"
   ]
  },
  {
   "cell_type": "code",
   "execution_count": 19,
   "id": "2c6ebfc5",
   "metadata": {},
   "outputs": [
    {
     "name": "stdout",
     "output_type": "stream",
     "text": [
      "Model: \"sequential_2\"\n",
      "_________________________________________________________________\n",
      " Layer (type)                Output Shape              Param #   \n",
      "=================================================================\n",
      " embedding_2 (Embedding)     (None, 9965, 32)          318880    \n",
      "                                                                 \n",
      " conv1d_2 (Conv1D)           (None, 9965, 32)          3104      \n",
      "                                                                 \n",
      " max_pooling1d_2 (MaxPooling  (None, 4982, 32)         0         \n",
      " 1D)                                                             \n",
      "                                                                 \n",
      " flatten_2 (Flatten)         (None, 159424)            0         \n",
      "                                                                 \n",
      " dense_4 (Dense)             (None, 250)               39856250  \n",
      "                                                                 \n",
      " dense_5 (Dense)             (None, 2)                 502       \n",
      "                                                                 \n",
      "=================================================================\n",
      "Total params: 40,178,736\n",
      "Trainable params: 40,178,736\n",
      "Non-trainable params: 0\n",
      "_________________________________________________________________\n"
     ]
    }
   ],
   "source": [
    "# montando a rede CNN\n",
    "model = Sequential()\n",
    "model.add(Embedding(input_length, 32, input_length=input_length))\n",
    "model.add(Conv1D(filters=32, kernel_size=3, padding='same', activation='relu'))\n",
    "model.add(MaxPooling1D(pool_size=2))\n",
    "model.add(Flatten())\n",
    "model.add(Dense(250, activation='relu'))\n",
    "model.add(Dense(num_classes, activation='sigmoid'))\n",
    "model.compile(loss='binary_crossentropy', optimizer='adam', metrics=['accuracy'])\n",
    "model.summary()"
   ]
  },
  {
   "cell_type": "code",
   "execution_count": null,
   "id": "78e5403d",
   "metadata": {},
   "outputs": [
    {
     "name": "stdout",
     "output_type": "stream",
     "text": [
      "Epoch 1/20\n",
      "3/3 [==============================] - 4s 1s/step - loss: 0.6901 - accuracy: 0.5397 - val_loss: 0.7052 - val_accuracy: 0.4571\n",
      "Epoch 2/20\n",
      "3/3 [==============================] - 5s 1s/step - loss: 0.6902 - accuracy: 0.5397 - val_loss: 0.7044 - val_accuracy: 0.4571\n",
      "Epoch 3/20\n",
      "3/3 [==============================] - 6s 2s/step - loss: 0.6900 - accuracy: 0.5397 - val_loss: 0.7040 - val_accuracy: 0.4571\n",
      "Epoch 4/20\n",
      "2/3 [===================>..........] - ETA: 2s - loss: 0.6888 - accuracy: 0.5469"
     ]
    }
   ],
   "source": [
    "# Treinando o modelo\n",
    "model.fit(x_train, y_train, validation_data=(x_val, y_val), \n",
    "          epochs=20, batch_size=128, verbose=1)\n",
    "scores = model.evaluate(x_val, y_val, verbose=1)\n",
    "print(scores)\n"
   ]
  }
 ],
 "metadata": {
  "kernelspec": {
   "display_name": "Python 3 (ipykernel)",
   "language": "python",
   "name": "python3"
  },
  "language_info": {
   "codemirror_mode": {
    "name": "ipython",
    "version": 3
   },
   "file_extension": ".py",
   "mimetype": "text/x-python",
   "name": "python",
   "nbconvert_exporter": "python",
   "pygments_lexer": "ipython3",
   "version": "3.10.2"
  }
 },
 "nbformat": 4,
 "nbformat_minor": 5
}
