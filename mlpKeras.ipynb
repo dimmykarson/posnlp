{
 "cells": [
  {
   "cell_type": "code",
   "execution_count": 45,
   "id": "8ad4d5fd",
   "metadata": {},
   "outputs": [],
   "source": [
    "#manipulação de dados\n",
    "import pandas as pd\n",
    "import numpy as np\n",
    "\n",
    "#carregando ferramentas de Redes Neurais\n",
    "from tensorflow import keras\n",
    "from tensorflow.keras.datasets import mnist\n",
    "from tensorflow.keras.models import Sequential\n",
    "from tensorflow.keras.layers import Dropout, Dense, Input\n",
    "from tensorflow.keras.optimizers import RMSprop\n",
    "\n",
    "import pickle as pck\n"
   ]
  },
  {
   "cell_type": "code",
   "execution_count": 53,
   "id": "e1513256",
   "metadata": {},
   "outputs": [],
   "source": [
    "#Carregando a representação\n",
    "x = pck.load(open(\"datasets/representacao_tfidf_350.bin\", \"rb\"))\n",
    "x = x.toarray()\n"
   ]
  },
  {
   "cell_type": "code",
   "execution_count": 54,
   "id": "97350232",
   "metadata": {},
   "outputs": [],
   "source": [
    "#Carregando o dataset\n",
    "df = pd.read_csv(\"datasets/imdb.csv\")\n",
    "df = df[:350]\n",
    "\n"
   ]
  },
  {
   "cell_type": "code",
   "execution_count": 55,
   "id": "e0b92813",
   "metadata": {},
   "outputs": [],
   "source": [
    "num_classes = 2\n",
    "from sklearn.preprocessing import LabelEncoder\n",
    "import numpy as np\n",
    "\n",
    "y = np.array(df['sentiment'])\n",
    "\n",
    "label_encoder = LabelEncoder()\n",
    "y = label_encoder.fit_transform(y)\n",
    "#representação binária dos rótulos\n",
    "y = keras.utils.to_categorical(y, num_classes)\n"
   ]
  },
  {
   "cell_type": "code",
   "execution_count": 57,
   "id": "f7fb4887",
   "metadata": {},
   "outputs": [
    {
     "data": {
      "text/plain": [
       "array([[0., 0., 0., ..., 0., 0., 0.],\n",
       "       [0., 0., 0., ..., 0., 0., 0.],\n",
       "       [0., 0., 0., ..., 0., 0., 0.],\n",
       "       ...,\n",
       "       [0., 0., 0., ..., 0., 0., 0.],\n",
       "       [0., 0., 0., ..., 0., 0., 0.],\n",
       "       [0., 0., 0., ..., 0., 0., 0.]])"
      ]
     },
     "execution_count": 57,
     "metadata": {},
     "output_type": "execute_result"
    }
   ],
   "source": [
    "from sklearn.model_selection import train_test_split\n",
    "x_train, x_val, y_train, y_val = train_test_split(x, y, test_size = .1)\n",
    "x_train.shape"
   ]
  },
  {
   "cell_type": "code",
   "execution_count": 67,
   "id": "bc80bd86",
   "metadata": {},
   "outputs": [
    {
     "name": "stdout",
     "output_type": "stream",
     "text": [
      "9965\n",
      "Model: \"sequential_15\"\n",
      "_________________________________________________________________\n",
      " Layer (type)                Output Shape              Param #   \n",
      "=================================================================\n",
      " dense_39 (Dense)            (None, 50)                498300    \n",
      "                                                                 \n",
      " dropout_26 (Dropout)        (None, 50)                0         \n",
      "                                                                 \n",
      " dense_40 (Dense)            (None, 20)                1020      \n",
      "                                                                 \n",
      " dropout_27 (Dropout)        (None, 20)                0         \n",
      "                                                                 \n",
      " dense_41 (Dense)            (None, 2)                 42        \n",
      "                                                                 \n",
      "=================================================================\n",
      "Total params: 499,362\n",
      "Trainable params: 499,362\n",
      "Non-trainable params: 0\n",
      "_________________________________________________________________\n"
     ]
    }
   ],
   "source": [
    "model = Sequential()\n",
    "input_dim = x_train.shape[1]\n",
    "print(input_dim)\n",
    "model.add(Dense(50, activation=\"relu\", input_shape=(input_dim, )))\n",
    "model.add(Dropout(.2))\n",
    "model.add(Dense(20, activation=\"relu\"))\n",
    "model.add(Dropout(.2))\n",
    "model.add(Dense(num_classes, activation=\"softmax\"))\n",
    "\n",
    "model.summary()"
   ]
  },
  {
   "cell_type": "code",
   "execution_count": 68,
   "id": "f2b63291",
   "metadata": {},
   "outputs": [],
   "source": [
    "model.compile(loss='categorical_crossentropy',\n",
    "              optimizer=RMSprop(), \n",
    "              metrics=['accuracy'])\n",
    "\n",
    "batch_size = 32\n",
    "epochs = 10\n"
   ]
  },
  {
   "cell_type": "code",
   "execution_count": 69,
   "id": "0b99b984",
   "metadata": {},
   "outputs": [
    {
     "name": "stdout",
     "output_type": "stream",
     "text": [
      "Epoch 1/10\n",
      "10/10 [==============================] - 1s 32ms/step - loss: 0.6878 - accuracy: 0.5302 - val_loss: 0.6788 - val_accuracy: 0.5429\n",
      "Epoch 2/10\n",
      "10/10 [==============================] - 0s 14ms/step - loss: 0.6301 - accuracy: 0.6952 - val_loss: 0.6570 - val_accuracy: 0.6286\n",
      "Epoch 3/10\n",
      "10/10 [==============================] - 0s 15ms/step - loss: 0.5429 - accuracy: 0.8762 - val_loss: 0.6336 - val_accuracy: 0.6286\n",
      "Epoch 4/10\n",
      "10/10 [==============================] - 0s 14ms/step - loss: 0.4423 - accuracy: 0.9683 - val_loss: 0.6088 - val_accuracy: 0.6571\n",
      "Epoch 5/10\n",
      "10/10 [==============================] - 0s 14ms/step - loss: 0.3492 - accuracy: 0.9905 - val_loss: 0.5846 - val_accuracy: 0.7143\n",
      "Epoch 6/10\n",
      "10/10 [==============================] - 0s 14ms/step - loss: 0.2615 - accuracy: 0.9968 - val_loss: 0.5639 - val_accuracy: 0.6857\n",
      "Epoch 7/10\n",
      "10/10 [==============================] - 0s 19ms/step - loss: 0.1937 - accuracy: 1.0000 - val_loss: 0.5410 - val_accuracy: 0.7143\n",
      "Epoch 8/10\n",
      "10/10 [==============================] - 0s 17ms/step - loss: 0.1263 - accuracy: 1.0000 - val_loss: 0.5243 - val_accuracy: 0.7143\n",
      "Epoch 9/10\n",
      "10/10 [==============================] - 0s 14ms/step - loss: 0.0991 - accuracy: 1.0000 - val_loss: 0.5189 - val_accuracy: 0.7143\n",
      "Epoch 10/10\n",
      "10/10 [==============================] - 0s 15ms/step - loss: 0.0632 - accuracy: 1.0000 - val_loss: 0.5074 - val_accuracy: 0.6857\n"
     ]
    }
   ],
   "source": [
    "history = model.fit(x_train, y_train, \n",
    "                    epochs=epochs,\n",
    "                    verbose=1,\n",
    "                    validation_data=(x_val, y_val))"
   ]
  }
 ],
 "metadata": {
  "kernelspec": {
   "display_name": "Python 3 (ipykernel)",
   "language": "python",
   "name": "python3"
  },
  "language_info": {
   "codemirror_mode": {
    "name": "ipython",
    "version": 3
   },
   "file_extension": ".py",
   "mimetype": "text/x-python",
   "name": "python",
   "nbconvert_exporter": "python",
   "pygments_lexer": "ipython3",
   "version": "3.10.2"
  }
 },
 "nbformat": 4,
 "nbformat_minor": 5
}
