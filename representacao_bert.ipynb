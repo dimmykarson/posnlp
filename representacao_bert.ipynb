{
 "cells": [
  {
   "cell_type": "code",
   "execution_count": 17,
   "id": "6db36fb6",
   "metadata": {},
   "outputs": [
    {
     "name": "stdout",
     "output_type": "stream",
     "text": [
      "Collecting sentencepiece\n",
      "  Using cached sentencepiece-0.1.96.tar.gz (508 kB)\n",
      "  Preparing metadata (setup.py): started\n",
      "  Preparing metadata (setup.py): finished with status 'done'\n",
      "Building wheels for collected packages: sentencepiece\n",
      "  Building wheel for sentencepiece (setup.py): started\n",
      "  Building wheel for sentencepiece (setup.py): finished with status 'error'\n",
      "  Running setup.py clean for sentencepiece\n",
      "Failed to build sentencepiece\n",
      "Installing collected packages: sentencepiece\n",
      "  Running setup.py install for sentencepiece: started\n",
      "  Running setup.py install for sentencepiece: finished with status 'error'\n",
      "Note: you may need to restart the kernel to use updated packages.\n"
     ]
    },
    {
     "name": "stderr",
     "output_type": "stream",
     "text": [
      "  error: subprocess-exited-with-error\n",
      "  \n",
      "  python setup.py bdist_wheel did not run successfully.\n",
      "  exit code: 1\n",
      "  \n",
      "  [22 lines of output]\n",
      "  C:\\Users\\dimmy\\AppData\\Local\\Programs\\Python\\Python310\\lib\\site-packages\\setuptools\\dist.py:717: UserWarning: Usage of dash-separated 'description-file' will not be supported in future versions. Please use the underscore name 'description_file' instead\n",
      "    warnings.warn(\n",
      "  running bdist_wheel\n",
      "  running build\n",
      "  running build_py\n",
      "  creating build\n",
      "  creating build\\lib.win-amd64-3.10\n",
      "  creating build\\lib.win-amd64-3.10\\sentencepiece\n",
      "  copying src\\sentencepiece/__init__.py -> build\\lib.win-amd64-3.10\\sentencepiece\n",
      "  copying src\\sentencepiece/sentencepiece_model_pb2.py -> build\\lib.win-amd64-3.10\\sentencepiece\n",
      "  copying src\\sentencepiece/sentencepiece_pb2.py -> build\\lib.win-amd64-3.10\\sentencepiece\n",
      "  running build_ext\n",
      "  building 'sentencepiece._sentencepiece' extension\n",
      "  creating build\\temp.win-amd64-3.10\n",
      "  creating build\\temp.win-amd64-3.10\\Release\n",
      "  creating build\\temp.win-amd64-3.10\\Release\\src\n",
      "  creating build\\temp.win-amd64-3.10\\Release\\src\\sentencepiece\n",
      "  C:\\Program Files (x86)\\Microsoft Visual Studio\\2019\\Enterprise\\VC\\Tools\\MSVC\\14.29.30133\\bin\\HostX86\\x64\\cl.exe /c /nologo /Ox /W3 /GL /DNDEBUG /MD -IC:\\Users\\dimmy\\AppData\\Local\\Programs\\Python\\Python310\\include -IC:\\Users\\dimmy\\AppData\\Local\\Programs\\Python\\Python310\\Include -IC:\\Program Files (x86)\\Microsoft Visual Studio\\2019\\Enterprise\\VC\\Tools\\MSVC\\14.29.30133\\ATLMFC\\include -IC:\\Program Files (x86)\\Microsoft Visual Studio\\2019\\Enterprise\\VC\\Tools\\MSVC\\14.29.30133\\include -IC:\\Program Files (x86)\\Windows Kits\\NETFXSDK\\4.8\\include\\um -IC:\\Program Files (x86)\\Windows Kits\\10\\include\\10.0.19041.0\\ucrt -IC:\\Program Files (x86)\\Windows Kits\\10\\include\\10.0.19041.0\\shared -IC:\\Program Files (x86)\\Windows Kits\\10\\include\\10.0.19041.0\\um -IC:\\Program Files (x86)\\Windows Kits\\10\\include\\10.0.19041.0\\winrt -IC:\\Program Files (x86)\\Windows Kits\\10\\include\\10.0.19041.0\\cppwinrt /EHsc /Tpsrc/sentencepiece/sentencepiece_wrap.cxx /Fobuild\\temp.win-amd64-3.10\\Release\\src/sentencepiece/sentencepiece_wrap.obj /MT /I..\\build\\root\\include\n",
      "  cl : Linha de comando warning D9025 : substituindo '/MD' com '/MT'\n",
      "  sentencepiece_wrap.cxx\n",
      "  src/sentencepiece/sentencepiece_wrap.cxx(2809): fatal error C1083: NÃ£o Ã© possÃ­vel abrir arquivo incluir: 'sentencepiece_processor.h': No such file or directory\n",
      "  error: command 'C:\\\\Program Files (x86)\\\\Microsoft Visual Studio\\\\2019\\\\Enterprise\\\\VC\\\\Tools\\\\MSVC\\\\14.29.30133\\\\bin\\\\HostX86\\\\x64\\\\cl.exe' failed with exit code 2\n",
      "  [end of output]\n",
      "  \n",
      "  note: This error originates from a subprocess, and is likely not a problem with pip.\n",
      "  ERROR: Failed building wheel for sentencepiece\n",
      "  error: subprocess-exited-with-error\n",
      "  \n",
      "  Running setup.py install for sentencepiece did not run successfully.\n",
      "  exit code: 1\n",
      "  \n",
      "  [22 lines of output]\n",
      "  C:\\Users\\dimmy\\AppData\\Local\\Programs\\Python\\Python310\\lib\\site-packages\\setuptools\\dist.py:717: UserWarning: Usage of dash-separated 'description-file' will not be supported in future versions. Please use the underscore name 'description_file' instead\n",
      "    warnings.warn(\n",
      "  running install\n",
      "  running build\n",
      "  running build_py\n",
      "  creating build\n",
      "  creating build\\lib.win-amd64-3.10\n",
      "  creating build\\lib.win-amd64-3.10\\sentencepiece\n",
      "  copying src\\sentencepiece/__init__.py -> build\\lib.win-amd64-3.10\\sentencepiece\n",
      "  copying src\\sentencepiece/sentencepiece_model_pb2.py -> build\\lib.win-amd64-3.10\\sentencepiece\n",
      "  copying src\\sentencepiece/sentencepiece_pb2.py -> build\\lib.win-amd64-3.10\\sentencepiece\n",
      "  running build_ext\n",
      "  building 'sentencepiece._sentencepiece' extension\n",
      "  creating build\\temp.win-amd64-3.10\n",
      "  creating build\\temp.win-amd64-3.10\\Release\n",
      "  creating build\\temp.win-amd64-3.10\\Release\\src\n",
      "  creating build\\temp.win-amd64-3.10\\Release\\src\\sentencepiece\n",
      "  C:\\Program Files (x86)\\Microsoft Visual Studio\\2019\\Enterprise\\VC\\Tools\\MSVC\\14.29.30133\\bin\\HostX86\\x64\\cl.exe /c /nologo /Ox /W3 /GL /DNDEBUG /MD -IC:\\Users\\dimmy\\AppData\\Local\\Programs\\Python\\Python310\\include -IC:\\Users\\dimmy\\AppData\\Local\\Programs\\Python\\Python310\\Include -IC:\\Program Files (x86)\\Microsoft Visual Studio\\2019\\Enterprise\\VC\\Tools\\MSVC\\14.29.30133\\ATLMFC\\include -IC:\\Program Files (x86)\\Microsoft Visual Studio\\2019\\Enterprise\\VC\\Tools\\MSVC\\14.29.30133\\include -IC:\\Program Files (x86)\\Windows Kits\\NETFXSDK\\4.8\\include\\um -IC:\\Program Files (x86)\\Windows Kits\\10\\include\\10.0.19041.0\\ucrt -IC:\\Program Files (x86)\\Windows Kits\\10\\include\\10.0.19041.0\\shared -IC:\\Program Files (x86)\\Windows Kits\\10\\include\\10.0.19041.0\\um -IC:\\Program Files (x86)\\Windows Kits\\10\\include\\10.0.19041.0\\winrt -IC:\\Program Files (x86)\\Windows Kits\\10\\include\\10.0.19041.0\\cppwinrt /EHsc /Tpsrc/sentencepiece/sentencepiece_wrap.cxx /Fobuild\\temp.win-amd64-3.10\\Release\\src/sentencepiece/sentencepiece_wrap.obj /MT /I..\\build\\root\\include\n",
      "  cl : Linha de comando warning D9025 : substituindo '/MD' com '/MT'\n",
      "  sentencepiece_wrap.cxx\n",
      "  src/sentencepiece/sentencepiece_wrap.cxx(2809): fatal error C1083: NÃ£o Ã© possÃ­vel abrir arquivo incluir: 'sentencepiece_processor.h': No such file or directory\n",
      "  error: command 'C:\\\\Program Files (x86)\\\\Microsoft Visual Studio\\\\2019\\\\Enterprise\\\\VC\\\\Tools\\\\MSVC\\\\14.29.30133\\\\bin\\\\HostX86\\\\x64\\\\cl.exe' failed with exit code 2\n",
      "  [end of output]\n",
      "  \n",
      "  note: This error originates from a subprocess, and is likely not a problem with pip.\n",
      "error: legacy-install-failure\n",
      "\n",
      "Encountered error while trying to install package.\n",
      "\n",
      "sentencepiece\n",
      "\n",
      "note: This is an issue with the package mentioned above, not pip.\n",
      "hint: See above for output from the failure.\n"
     ]
    }
   ],
   "source": [
    "pip install sentencepiece"
   ]
  },
  {
   "cell_type": "code",
   "execution_count": 16,
   "id": "8f8780e4",
   "metadata": {},
   "outputs": [
    {
     "ename": "SyntaxError",
     "evalue": "invalid syntax (2318513325.py, line 1)",
     "output_type": "error",
     "traceback": [
      "\u001b[1;36m  Input \u001b[1;32mIn [16]\u001b[1;36m\u001b[0m\n\u001b[1;33m    pip install sentencepiece\u001b[0m\n\u001b[1;37m        ^\u001b[0m\n\u001b[1;31mSyntaxError\u001b[0m\u001b[1;31m:\u001b[0m invalid syntax\n"
     ]
    }
   ],
   "source": [
    "pip install -U sentence-transformers"
   ]
  },
  {
   "cell_type": "code",
   "execution_count": 12,
   "id": "0be9be93",
   "metadata": {},
   "outputs": [
    {
     "ename": "ModuleNotFoundError",
     "evalue": "No module named 'sentence_transformers'",
     "output_type": "error",
     "traceback": [
      "\u001b[1;31m---------------------------------------------------------------------------\u001b[0m",
      "\u001b[1;31mModuleNotFoundError\u001b[0m                       Traceback (most recent call last)",
      "Input \u001b[1;32mIn [12]\u001b[0m, in \u001b[0;36m<cell line: 1>\u001b[1;34m()\u001b[0m\n\u001b[1;32m----> 1\u001b[0m \u001b[38;5;28;01mfrom\u001b[39;00m \u001b[38;5;21;01msentence_transformers\u001b[39;00m \u001b[38;5;28;01mimport\u001b[39;00m SentenceTransformer\n",
      "\u001b[1;31mModuleNotFoundError\u001b[0m: No module named 'sentence_transformers'"
     ]
    }
   ],
   "source": [
    "from sentence_transformers import SentenceTransformer"
   ]
  }
 ],
 "metadata": {
  "kernelspec": {
   "display_name": "Python 3 (ipykernel)",
   "language": "python",
   "name": "python3"
  },
  "language_info": {
   "codemirror_mode": {
    "name": "ipython",
    "version": 3
   },
   "file_extension": ".py",
   "mimetype": "text/x-python",
   "name": "python",
   "nbconvert_exporter": "python",
   "pygments_lexer": "ipython3",
   "version": "3.10.2"
  }
 },
 "nbformat": 4,
 "nbformat_minor": 5
}
